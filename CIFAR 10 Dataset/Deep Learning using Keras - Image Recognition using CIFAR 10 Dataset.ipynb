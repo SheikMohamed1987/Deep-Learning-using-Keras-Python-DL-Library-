{
 "cells": [
  {
   "cell_type": "code",
   "execution_count": 1,
   "metadata": {},
   "outputs": [
    {
     "name": "stderr",
     "output_type": "stream",
     "text": [
      "Using TensorFlow backend.\n"
     ]
    }
   ],
   "source": [
    "#Import CIFAR 10 Dataset and other required packages\n",
    "import keras\n",
    "from keras.datasets import cifar10\n",
    "from keras.models import Sequential\n",
    "from keras.layers import Dense, Dropout, Flatten, Conv2D, MaxPooling2D\n",
    "from keras.preprocessing import image\n",
    "from pathlib import Path\n",
    "import pandas as pd\n",
    "import matplotlib.pyplot as plt\n",
    "import numpy as np\n",
    "%matplotlib inline"
   ]
  },
  {
   "cell_type": "code",
   "execution_count": 2,
   "metadata": {},
   "outputs": [],
   "source": [
    "# List of names for each CIFAR10 class\n",
    "cifar10_class_names = {\n",
    "    0: \"Plane\",\n",
    "    1: \"Car\",\n",
    "    2: \"Bird\",\n",
    "    3: \"Cat\",\n",
    "    4: \"Deer\",\n",
    "    5: \"Dog\",\n",
    "    6: \"Frog\",\n",
    "    7: \"Horse\",\n",
    "    8: \"Boat\",\n",
    "    9: \"Truck\"\n",
    "}"
   ]
  },
  {
   "cell_type": "code",
   "execution_count": 3,
   "metadata": {},
   "outputs": [],
   "source": [
    "# Load the entire data set\n",
    "(x_train, y_train), (x_test, y_test) = cifar10.load_data()"
   ]
  },
  {
   "cell_type": "code",
   "execution_count": 4,
   "metadata": {},
   "outputs": [
    {
     "data": {
      "image/png": "[encoded data removed]",
      "text/plain": [
       "<Figure size 432x288 with 1 Axes>"
      ]
     },
     "metadata": {
      "needs_background": "light"
     },
     "output_type": "display_data"
    },
    {
     "data": {
      "image/png": "[encoded data removed]",
      "text/plain": [
       "<Figure size 432x288 with 1 Axes>"
      ]
     },
     "metadata": {
      "needs_background": "light"
     },
     "output_type": "display_data"
    }
   ],
   "source": [
    "# Loop through each picture in the data set\n",
    "for i in range(2):\n",
    "    # Grab an image from the data set\n",
    "    sample_image = x_train[i]\n",
    "    # Grab the image's expected class id\n",
    "    image_class_number = y_train[i][0]\n",
    "    # Look up the class name from the class id\n",
    "    image_class_name = cifar10_class_names[image_class_number]\n",
    "\n",
    "    # Draw the image as a plot\n",
    "    plt.imshow(sample_image)\n",
    "    # Label the image\n",
    "    plt.title(image_class_name)\n",
    "    # Show the plot on the screen\n",
    "    plt.show()"
   ]
  },
  {
   "cell_type": "code",
   "execution_count": 5,
   "metadata": {},
   "outputs": [
    {
     "data": {
      "text/plain": [
       "(32, 32, 3)"
      ]
     },
     "execution_count": 5,
     "metadata": {},
     "output_type": "execute_result"
    }
   ],
   "source": [
    "x_train[0].shape"
   ]
  },
  {
   "cell_type": "code",
   "execution_count": 6,
   "metadata": {},
   "outputs": [],
   "source": [
    "# Normalize data set to 0-to-1 range\n",
    "x_train = x_train.astype('float32')\n",
    "x_test = x_test.astype('float32')\n",
    "x_train /= 255\n",
    "x_test /= 255"
   ]
  },
  {
   "cell_type": "code",
   "execution_count": 7,
   "metadata": {},
   "outputs": [],
   "source": [
    "# Convert class vectors to binary class matrices\n",
    "# Our labels are single values from 0 to 9.\n",
    "# Instead, we want each label to be an array with one element set to 1 and and the rest set to 0.\n",
    "y_train = keras.utils.to_categorical(y_train, 10)\n",
    "y_test = keras.utils.to_categorical(y_test, 10)"
   ]
  },
  {
   "cell_type": "code",
   "execution_count": 8,
   "metadata": {},
   "outputs": [
    {
     "data": {
      "text/plain": [
       "array([0., 0., 0., 0., 0., 0., 1., 0., 0., 0.], dtype=float32)"
      ]
     },
     "execution_count": 8,
     "metadata": {},
     "output_type": "execute_result"
    }
   ],
   "source": [
    "y_train[0]"
   ]
  },
  {
   "cell_type": "markdown",
   "metadata": {},
   "source": [
    "# Create a Model and add Neural network layers"
   ]
  },
  {
   "cell_type": "code",
   "execution_count": 9,
   "metadata": {},
   "outputs": [
    {
     "name": "stdout",
     "output_type": "stream",
     "text": [
      "_________________________________________________________________\n",
      "Layer (type)                 Output Shape              Param #   \n",
      "=================================================================\n",
      "conv2d_1 (Conv2D)            (None, 32, 32, 32)        896       \n",
      "_________________________________________________________________\n",
      "conv2d_2 (Conv2D)            (None, 30, 30, 32)        9248      \n",
      "_________________________________________________________________\n",
      "max_pooling2d_1 (MaxPooling2 (None, 15, 15, 32)        0         \n",
      "_________________________________________________________________\n",
      "dropout_1 (Dropout)          (None, 15, 15, 32)        0         \n",
      "_________________________________________________________________\n",
      "conv2d_3 (Conv2D)            (None, 15, 15, 64)        18496     \n",
      "_________________________________________________________________\n",
      "conv2d_4 (Conv2D)            (None, 13, 13, 64)        36928     \n",
      "_________________________________________________________________\n",
      "max_pooling2d_2 (MaxPooling2 (None, 6, 6, 64)          0         \n",
      "_________________________________________________________________\n",
      "dropout_2 (Dropout)          (None, 6, 6, 64)          0         \n",
      "_________________________________________________________________\n",
      "flatten_1 (Flatten)          (None, 2304)              0         \n",
      "_________________________________________________________________\n",
      "dense_1 (Dense)              (None, 512)               1180160   \n",
      "_________________________________________________________________\n",
      "dropout_3 (Dropout)          (None, 512)               0         \n",
      "_________________________________________________________________\n",
      "dense_2 (Dense)              (None, 10)                5130      \n",
      "=================================================================\n",
      "Total params: 1,250,858\n",
      "Trainable params: 1,250,858\n",
      "Non-trainable params: 0\n",
      "_________________________________________________________________\n"
     ]
    }
   ],
   "source": [
    "model = Sequential()\n",
    "\n",
    "model.add(Conv2D(32, (3, 3), padding='same', input_shape=(32, 32, 3), activation=\"relu\"))\n",
    "model.add(Conv2D(32, (3, 3), activation=\"relu\"))\n",
    "model.add(MaxPooling2D(pool_size=(2, 2)))\n",
    "model.add(Dropout(0.25))\n",
    "\n",
    "model.add(Conv2D(64, (3, 3), padding='same', activation=\"relu\"))\n",
    "model.add(Conv2D(64, (3, 3), activation=\"relu\"))\n",
    "model.add(MaxPooling2D(pool_size=(2, 2)))\n",
    "model.add(Dropout(0.25))\n",
    "\n",
    "model.add(Flatten())\n",
    "model.add(Dense(512, activation=\"relu\"))\n",
    "model.add(Dropout(0.5))\n",
    "model.add(Dense(10, activation=\"softmax\"))\n",
    "\n",
    "# Compile the model\n",
    "model.compile(\n",
    "    loss='categorical_crossentropy',\n",
    "    optimizer='adam',\n",
    "    metrics=['accuracy']\n",
    ")\n",
    "\n",
    "\n",
    "# Print a summary of the model\n",
    "model.summary()"
   ]
  },
  {
   "cell_type": "code",
   "execution_count": 10,
   "metadata": {},
   "outputs": [
    {
     "name": "stdout",
     "output_type": "stream",
     "text": [
      "Train on 50000 samples, validate on 10000 samples\n",
      "Epoch 1/30\n",
      "50000/50000 [==============================] - 382s 8ms/step - loss: 1.5309 - acc: 0.4412 - val_loss: 1.2094 - val_acc: 0.5622\n",
      "Epoch 2/30\n",
      "50000/50000 [==============================] - 381s 8ms/step - loss: 1.1668 - acc: 0.5844 - val_loss: 1.0277 - val_acc: 0.6384\n",
      "Epoch 3/30\n",
      "50000/50000 [==============================] - 383s 8ms/step - loss: 1.0080 - acc: 0.6439 - val_loss: 0.9153 - val_acc: 0.6822\n",
      "Epoch 4/30\n",
      "50000/50000 [==============================] - 379s 8ms/step - loss: 0.9122 - acc: 0.6813 - val_loss: 0.8150 - val_acc: 0.7148\n",
      "Epoch 5/30\n",
      "50000/50000 [==============================] - 373s 7ms/step - loss: 0.8378 - acc: 0.7068 - val_loss: 0.7536 - val_acc: 0.7363\n",
      "Epoch 6/30\n",
      "50000/50000 [==============================] - 372s 7ms/step - loss: 0.7894 - acc: 0.7217 - val_loss: 0.7993 - val_acc: 0.7232\n",
      "Epoch 7/30\n",
      "50000/50000 [==============================] - 374s 7ms/step - loss: 0.7518 - acc: 0.7383 - val_loss: 0.7467 - val_acc: 0.7440\n",
      "Epoch 8/30\n",
      "50000/50000 [==============================] - 383s 8ms/step - loss: 0.7177 - acc: 0.7485 - val_loss: 0.7307 - val_acc: 0.7470\n",
      "Epoch 9/30\n",
      "50000/50000 [==============================] - 314s 6ms/step - loss: 0.6940 - acc: 0.7541 - val_loss: 0.6969 - val_acc: 0.7567\n",
      "Epoch 10/30\n",
      "50000/50000 [==============================] - 270s 5ms/step - loss: 0.6700 - acc: 0.7646 - val_loss: 0.6672 - val_acc: 0.7702\n",
      "Epoch 11/30\n",
      "50000/50000 [==============================] - 256s 5ms/step - loss: 0.6516 - acc: 0.7722 - val_loss: 0.6689 - val_acc: 0.7692\n",
      "Epoch 12/30\n",
      "50000/50000 [==============================] - 254s 5ms/step - loss: 0.6231 - acc: 0.7823 - val_loss: 0.6540 - val_acc: 0.7782\n",
      "Epoch 13/30\n",
      "50000/50000 [==============================] - 253s 5ms/step - loss: 0.6092 - acc: 0.7857 - val_loss: 0.7027 - val_acc: 0.7677\n",
      "Epoch 14/30\n",
      "50000/50000 [==============================] - 3908s 78ms/step - loss: 0.5986 - acc: 0.7896 - val_loss: 0.6590 - val_acc: 0.7792\n",
      "Epoch 15/30\n",
      "50000/50000 [==============================] - 384s 8ms/step - loss: 0.5823 - acc: 0.7957 - val_loss: 0.6725 - val_acc: 0.7671\n",
      "Epoch 16/30\n",
      "50000/50000 [==============================] - 357s 7ms/step - loss: 0.5752 - acc: 0.7968 - val_loss: 0.6739 - val_acc: 0.7793\n",
      "Epoch 17/30\n",
      "50000/50000 [==============================] - 261s 5ms/step - loss: 0.5610 - acc: 0.8037 - val_loss: 0.6443 - val_acc: 0.7832\n",
      "Epoch 18/30\n",
      "50000/50000 [==============================] - 256s 5ms/step - loss: 0.5585 - acc: 0.8043 - val_loss: 0.6583 - val_acc: 0.7803\n",
      "Epoch 19/30\n",
      "50000/50000 [==============================] - 256s 5ms/step - loss: 0.5392 - acc: 0.8095 - val_loss: 0.6396 - val_acc: 0.7860\n",
      "Epoch 20/30\n",
      "50000/50000 [==============================] - 337s 7ms/step - loss: 0.5394 - acc: 0.8111 - val_loss: 0.6608 - val_acc: 0.7832\n",
      "Epoch 21/30\n",
      "50000/50000 [==============================] - 375s 7ms/step - loss: 0.5183 - acc: 0.8179 - val_loss: 0.6415 - val_acc: 0.7886\n",
      "Epoch 22/30\n",
      "50000/50000 [==============================] - 375s 7ms/step - loss: 0.5203 - acc: 0.8170 - val_loss: 0.6298 - val_acc: 0.7947\n",
      "Epoch 23/30\n",
      "50000/50000 [==============================] - 374s 7ms/step - loss: 0.5102 - acc: 0.8210 - val_loss: 0.6577 - val_acc: 0.7894\n",
      "Epoch 24/30\n",
      "50000/50000 [==============================] - 381s 8ms/step - loss: 0.5052 - acc: 0.8229 - val_loss: 0.6693 - val_acc: 0.7817\n",
      "Epoch 25/30\n",
      "50000/50000 [==============================] - 377s 8ms/step - loss: 0.4892 - acc: 0.8275 - val_loss: 0.6770 - val_acc: 0.7814\n",
      "Epoch 26/30\n",
      "50000/50000 [==============================] - 998s 20ms/step - loss: 0.4891 - acc: 0.8277 - val_loss: 0.6577 - val_acc: 0.7896\n",
      "Epoch 27/30\n",
      "50000/50000 [==============================] - 375s 8ms/step - loss: 0.4884 - acc: 0.8297 - val_loss: 0.6412 - val_acc: 0.7947\n",
      "Epoch 28/30\n",
      "50000/50000 [==============================] - 376s 8ms/step - loss: 0.4742 - acc: 0.8350 - val_loss: 0.6405 - val_acc: 0.7991\n",
      "Epoch 29/30\n",
      "50000/50000 [==============================] - 377s 8ms/step - loss: 0.4827 - acc: 0.8307 - val_loss: 0.6367 - val_acc: 0.7915\n",
      "Epoch 30/30\n",
      "50000/50000 [==============================] - 376s 8ms/step - loss: 0.4626 - acc: 0.8364 - val_loss: 0.6428 - val_acc: 0.7911\n"
     ]
    },
    {
     "data": {
      "text/plain": [
       "<keras.callbacks.History at 0x2e05d072940>"
      ]
     },
     "execution_count": 10,
     "metadata": {},
     "output_type": "execute_result"
    }
   ],
   "source": [
    "# Train the model\n",
    "model.fit(\n",
    "    x_train,\n",
    "    y_train,\n",
    "    batch_size=32,\n",
    "    epochs=30,\n",
    "    validation_data=(x_test, y_test),\n",
    "    shuffle=True\n",
    ")"
   ]
  },
  {
   "cell_type": "markdown",
   "metadata": {},
   "source": [
    "# Model Prediction "
   ]
  },
  {
   "cell_type": "code",
   "execution_count": 18,
   "metadata": {},
   "outputs": [
    {
     "name": "stdout",
     "output_type": "stream",
     "text": [
      "This image is a Car - Likelihood: 100.000000\n"
     ]
    }
   ],
   "source": [
    "# Load an image file to test, resizing it to 32x32 pixels (as required by this model)\n",
    "img = image.load_img(\"car.png\", target_size=(32, 32))\n",
    "\n",
    "# Convert the image to a numpy array\n",
    "image_to_test = image.img_to_array(img)\n",
    "\n",
    "# Add a fourth dimension to the image (since Keras expects a list of images, not a single image)\n",
    "list_of_images = np.expand_dims(image_to_test, axis=0)\n",
    "\n",
    "# Make a prediction using the model\n",
    "results = model.predict(list_of_images)\n",
    "\n",
    "# Since we are only testing one image, we only need to check the first result\n",
    "single_result = results[0]\n",
    "\n",
    "# We will get a likelihood score for all 10 possible classes. Find out which class had the highest score.\n",
    "most_likely_class_index = int(np.argmax(single_result))\n",
    "class_likelihood = single_result[most_likely_class_index]\n",
    "\n",
    "# Get the name of the most likely class\n",
    "class_label = cifar10_class_names[most_likely_class_index]\n",
    "\n",
    "# Print the result\n",
    "print(\"This image is a {} - Likelihood: {:2f}\".format(class_label, class_likelihood*100))"
   ]
  },
  {
   "cell_type": "code",
   "execution_count": 13,
   "metadata": {},
   "outputs": [],
   "source": [
    "# Save neural network structure\n",
    "model_structure = model.to_json()\n",
    "f = Path(\"CIFAR_model_structure.json\")\n",
    "f.write_text(model_structure)\n",
    "\n",
    "# Save neural network's trained weights\n",
    "model.save_weights(\"CIFAR_model_weights.h5\")"
   ]
  },
  {
   "cell_type": "code",
   "execution_count": 10,
   "metadata": {},
   "outputs": [],
   "source": [
    "# Load the json file that contains the model's structure\n",
    "from keras.models import model_from_json\n",
    "\n",
    "f = Path(\"CIFAR_model_structure.json\")\n",
    "model_structure = f.read_text()\n",
    "\n",
    "# Recreate the Keras model object from the json data\n",
    "model = model_from_json(model_structure)\n",
    "\n",
    "# Re-load the model's trained weights\n",
    "model.load_weights(\"CIFAR_model_weights.h5\")"
   ]
  }
 ],
 "metadata": {
  "kernelspec": {
   "display_name": "Python 3",
   "language": "python",
   "name": "python3"
  },
  "language_info": {
   "codemirror_mode": {
    "name": "ipython",
    "version": 3
   },
   "file_extension": ".py",
   "mimetype": "text/x-python",
   "name": "python",
   "nbconvert_exporter": "python",
   "pygments_lexer": "ipython3",
   "version": "3.6.7"
  }
 },
 "nbformat": 4,
 "nbformat_minor": 2
}
